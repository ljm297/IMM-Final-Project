{
 "cells": [
  {
   "cell_type": "markdown",
   "id": "29827c06",
   "metadata": {},
   "source": [
    "𝜌_𝑀𝑑𝑀⁄𝑑𝑡 = μ − ε(𝑀 − 𝑀0)\n",
    "\n",
    "𝜌_𝑀 = 𝜌F𝜌L/(𝜌L+(𝜌F-𝜌L)p)\n",
    "mu = I-E(F(M0),L(M0))\n",
    "ε = dE/dM|M=M0\n",
    "\n",
    "𝜌F=39.5 MJ/kg, 𝜌G = 17.6 MJ/kg, 𝜌P = 19.7 MJ/k\n",
    "𝜌L = 𝜌P/(1+hP)= 7.6 MJ/kg"
   ]
  },
  {
   "cell_type": "code",
   "execution_count": 1,
   "id": "a6f7f66b",
   "metadata": {},
   "outputs": [
    {
     "name": "stdout",
     "output_type": "stream",
     "text": [
      "27.822057460611678\n"
     ]
    }
   ],
   "source": [
    "rho_F = 39.5  #MJ/kg\n",
    "rho_L = 7.6\n",
    "p = 0.1\n",
    "M0 = 60  #kg\n",
    "\n",
    "rho_M = (rho_F * rho_L) / (rho_L + (rho_F - rho_L)*p)\n",
    "print(rho_M)\n",
    "# mu = "
   ]
  },
  {
   "cell_type": "code",
   "execution_count": null,
   "id": "b0066ccb",
   "metadata": {},
   "outputs": [],
   "source": []
  }
 ],
 "metadata": {
  "kernelspec": {
   "display_name": "Python 3 (ipykernel)",
   "language": "python",
   "name": "python3"
  },
  "language_info": {
   "codemirror_mode": {
    "name": "ipython",
    "version": 3
   },
   "file_extension": ".py",
   "mimetype": "text/x-python",
   "name": "python",
   "nbconvert_exporter": "python",
   "pygments_lexer": "ipython3",
   "version": "3.9.7"
  }
 },
 "nbformat": 4,
 "nbformat_minor": 5
}
