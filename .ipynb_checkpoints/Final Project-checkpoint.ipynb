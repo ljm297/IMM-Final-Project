{
 "cells": [
  {
   "cell_type": "markdown",
   "id": "d94a04e4",
   "metadata": {},
   "source": [
    "𝜌_𝑀𝑑𝑀⁄𝑑𝑡 = μ − ε(𝑀 − 𝑀0)\n",
    "\n",
    "𝜌_𝑀 = 𝜌F𝜌L/(𝜌L+(𝜌F-𝜌L)p)\n",
    "\n",
    "mu = I-E(F(M0),L(M0))\n",
    "\n",
    "ε = dE/dM|M=M0\n",
    "\n",
    "𝜌F=39.5 MJ/kg, 𝜌G = 17.6 MJ/kg, 𝜌P = 19.7 MJ/k\n",
    "\n",
    "𝜌L = 𝜌P/(1+hP)= 7.6 MJ/kg\n"
   ]
  },
  {
   "cell_type": "code",
   "execution_count": 16,
   "id": "e992abca",
   "metadata": {},
   "outputs": [],
   "source": [
    "import math\n",
    "from scipy.integrate import odeint\n",
    "import matplotlib.pyplot as plt\n",
    "import numpy as np"
   ]
  },
  {
   "cell_type": "code",
   "execution_count": 17,
   "id": "269c9c83",
   "metadata": {},
   "outputs": [
    {
     "name": "stdout",
     "output_type": "stream",
     "text": [
      "DIT   |   PA   |    RMR     |     NEAT     |    TOTAL: \n",
      "154.0 \t 540 \t 1245.546 \t 291.054 \t 2230.6\n",
      "0.069 \t 0.242 \t 0.558 \t\t 0.13 \t\t 1.0\n",
      "\n",
      "\n",
      "DIT2   |   PA2   |    RMR2     |     NEAT2     |    TOTAL2: \n",
      "215.6 \t 540 \t 1245.546 \t 379.698 \t 2380.844\n",
      "0.091 \t 0.227 \t 0.523 \t\t 0.159 \t\t 1.0\n"
     ]
    }
   ],
   "source": [
    "A0 = 18\n",
    "a = 0.1\n",
    "M0 = 60\n",
    "m = 11\n",
    "# m = 9\n",
    "I0 = 2000\n",
    "dI = 800\n",
    "I1 = dI+I0\n",
    "ai = 248\n",
    "pi = 0.4356\n",
    "yi = 5.09\n",
    "final = 14 #days\n",
    "r = 0.59\n",
    "C = -2500\n",
    "\n",
    "DIT = 0.077*I0\n",
    "PA = m*M0\n",
    "RMR = (1-a)*(ai*M0**pi-yi*(A0+final/365))\n",
    "NEAT = r/(1-r)*(DIT+PA+RMR) + C\n",
    "totalE = DIT+PA+RMR+NEAT\n",
    "\n",
    "\n",
    "DIT2 = 0.077*I1\n",
    "PA2 = m*M0\n",
    "RMR2 = (1-a)*(ai*M0**pi-yi*(A0+final/365))\n",
    "NEAT2 = r/(1-r)*(DIT2+PA2+RMR2) + C\n",
    "totalE2 = DIT2+PA2+RMR2+NEAT2\n",
    "\n",
    "# print(PA/totalE0)\n",
    "# print(NEAT/totalE0)\n",
    "print(\"DIT   |   PA   |    RMR     |     NEAT     |    TOTAL: \")\n",
    "print(round(DIT,3),\"\\t\",round(PA,3),\"\\t\",round(RMR,3),\"\\t\",round(NEAT,3),\"\\t\",round(totalE,3))\n",
    "print(round(DIT/totalE,3),\"\\t\",round(PA/totalE,3),\"\\t\",round(RMR/totalE,3),\"\\t\\t\",round(NEAT/totalE,3),\"\\t\\t\",round(totalE/totalE,3))\n",
    "\n",
    "\n",
    "print(\"\\n\\nDIT2   |   PA2   |    RMR2     |     NEAT2     |    TOTAL2: \")\n",
    "print(round(DIT2,3),\"\\t\",round(PA2,3),\"\\t\",round(RMR2,3),\"\\t\",round(NEAT2,3),\"\\t\",round(totalE2,3))\n",
    "print(round(DIT2/totalE2,3),\"\\t\",round(PA2/totalE2,3),\"\\t\",round(RMR2/totalE2,3),\"\\t\\t\",round(NEAT2/totalE2,3),\"\\t\\t\",round(totalE2/totalE2,3))\n"
   ]
  },
  {
   "cell_type": "markdown",
   "id": "ee2bd47d",
   "metadata": {},
   "source": [
    "In Chow's paper, the lean body mass is 10.4 * log(Fat/D), where D is a free parameter\n",
    "\n",
    "In Thomas'paper, the lean mass (fat-free mass) for female is 10.4 * ln(Fat) +14.2\n",
    "\n",
    "Equate these two functions we can get for females, D is about 0.255282"
   ]
  },
  {
   "cell_type": "code",
   "execution_count": 18,
   "id": "611d5560",
   "metadata": {
    "scrolled": true
   },
   "outputs": [
    {
     "name": "stdout",
     "output_type": "stream",
     "text": [
      "M0: 60\n",
      "fat ratio: 0.276485\n",
      "rhoM:  27.20763011734367\n",
      "alpha:  8.290352353238866\n",
      "p_ratio:  0.1076385439408413\n"
     ]
    }
   ],
   "source": [
    "rho_F = 39.5  #MJ/kg\n",
    "rho_L = 7.6\n",
    "\n",
    "D = 0.255282 #free param\n",
    "\n",
    "\n",
    "F0 = 16.5891\n",
    "L0 = M0-F0\n",
    "# M0 = F0+L0 #kg\n",
    "\n",
    "print(\"M0:\",M0)\n",
    "print(\"fat ratio:\", F0/M0)\n",
    "alpha = (rho_F/rho_L)*(F0/10.4)\n",
    "p_ratio = 1/(1+alpha)\n",
    "rho_M = (rho_F * rho_L) / (rho_L + (rho_F - rho_L)*p_ratio)\n",
    "print(\"rhoM: \", rho_M)\n",
    "print(\"alpha: \", alpha)\n",
    "print(\"p_ratio: \",p_ratio)\n",
    "# mu = "
   ]
  },
  {
   "cell_type": "code",
   "execution_count": 19,
   "id": "0687c8a2",
   "metadata": {},
   "outputs": [
    {
     "name": "stdout",
     "output_type": "stream",
     "text": [
      "-230.60025087824533 419.1558466827305\n"
     ]
    }
   ],
   "source": [
    "mu1 = I0 - totalE\n",
    "mu2 = I1 - totalE2\n",
    "print(mu1,mu2)\n",
    "#D is between 0.8-0.01"
   ]
  },
  {
   "cell_type": "code",
   "execution_count": 20,
   "id": "4d9ccd79",
   "metadata": {},
   "outputs": [
    {
     "name": "stdout",
     "output_type": "stream",
     "text": [
      "45.469720581416155\n"
     ]
    }
   ],
   "source": [
    "dedmM0 = m/(1-r) + (1-a)/(1-r)*ai*pi* M0**(pi-1)\n",
    "print(dedmM0)\n",
    "epsilon = dedmM0"
   ]
  },
  {
   "cell_type": "code",
   "execution_count": 21,
   "id": "9ed0c940",
   "metadata": {},
   "outputs": [
    {
     "data": {
      "image/png": "[encoded data removed]",
      "text/plain": [
       "<Figure size 432x288 with 1 Axes>"
      ]
     },
     "metadata": {
      "needs_background": "light"
     },
     "output_type": "display_data"
    }
   ],
   "source": [
    "def mass(s,t):\n",
    "    m0 = s[0]\n",
    "    m1 = s[1]\n",
    "    dmdt = (mu1-epsilon*(m0-M0))/rho_M\n",
    "    dmdt2 = (mu2 - epsilon*(m1-M0))/rho_M\n",
    "    return [dmdt,dmdt2]\n",
    "\n",
    "t = np.linspace(0,14)\n",
    "s0 = [60,60]\n",
    "s = odeint(mass,s0,t)\n",
    "\n",
    "plt.plot(t,s[:,0],'b-', linewidth=2.0)\n",
    "plt.plot(t,s[:,1],'r-', linewidth=2.0)\n",
    "\n",
    "\n",
    "plt.xlabel(\"Time\")\n",
    "plt.ylabel(\"Mass\")\n",
    "plt.legend([\"M\",\"M2\"])\n",
    "\n",
    "plt.show()\n",
    "\n",
    "\n",
    "\n"
   ]
  },
  {
   "cell_type": "code",
   "execution_count": null,
   "id": "e0e19e7b",
   "metadata": {},
   "outputs": [],
   "source": []
  }
 ],
 "metadata": {
  "kernelspec": {
   "display_name": "Python 3 (ipykernel)",
   "language": "python",
   "name": "python3"
  },
  "language_info": {
   "codemirror_mode": {
    "name": "ipython",
    "version": 3
   },
   "file_extension": ".py",
   "mimetype": "text/x-python",
   "name": "python",
   "nbconvert_exporter": "python",
   "pygments_lexer": "ipython3",
   "version": "3.9.7"
  }
 },
 "nbformat": 4,
 "nbformat_minor": 5
}
